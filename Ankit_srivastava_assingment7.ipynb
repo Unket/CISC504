{
 "cells": [
  {
   "cell_type": "code",
   "execution_count": 24,
   "metadata": {},
   "outputs": [
    {
     "name": "stdout",
     "output_type": "stream",
     "text": [
      "First number is: 25\n",
      "Second number is: 36\n",
      "second number is greater then first number\n",
      "61.0 is Sum of two number\n",
      "Sum of two number is odd\n",
      "900.0 is MUltiplication of two numbers\n"
     ]
    }
   ],
   "source": [
    "#Write a conversion program, calculator, or write any other program which uses a multi-way decision structure if, elif, else, and boolean logic to classify the outcome.\n",
    "num_1 = float(input('First number is: '))\n",
    "num_2 = float(input('Second number is: '))\n",
    "if num_1/num_2 <1 : print ('second number is greater then first number')\n",
    "elif num_1/num_2 >1: print ('first number is greater then second number')\n",
    "elif num_1/num_2 ==1: print ('Both Number are equal')\n",
    "sum_num = num_1 + num_2\n",
    "print(sum_num, \"is Sum of two number\")\n",
    "if sum_num % 2 == 0: print ('Sum of two number is even')\n",
    "else:\n",
    "    print ('Sum of two number is odd')\n",
    "Multiply = num_1 * num_2\n",
    "print(Multiply, \"is MUltiplication of two numbers\")   \n"
   ]
  },
  {
   "cell_type": "code",
   "execution_count": 14,
   "metadata": {},
   "outputs": [
    {
     "name": "stdout",
     "output_type": "stream",
     "text": [
      "Enter your age: dfgh\n",
      "Only positive integers are allowed\n",
      "Enter more statements here if required using finally:\n"
     ]
    }
   ],
   "source": [
    "#Write a program which will generate some exceptions then use the try,except, else, and finally statements to handle them\n",
    "def enterage(age):\n",
    "    if age < 0:\n",
    "        raise ValueError(\"Only positive integers are allowed\")\n",
    " \n",
    "    if age % 2 == 0:\n",
    "        print(\"age is even\")\n",
    "    else:\n",
    "        print(\"age is odd\")\n",
    " \n",
    "try:\n",
    "    num = int(input(\"Enter your age: \"))\n",
    "    enterage(num)\n",
    " \n",
    "except ValueError:\n",
    "    print(\"Only positive integers are allowed\")\n",
    "else:\n",
    "    print(\"something is wrong\")\n",
    "finally:\n",
    "    print ('Enter more statements here if required using finally:')\n"
   ]
  },
  {
   "cell_type": "code",
   "execution_count": null,
   "metadata": {},
   "outputs": [],
   "source": []
  },
  {
   "cell_type": "code",
   "execution_count": null,
   "metadata": {},
   "outputs": [],
   "source": []
  }
 ],
 "metadata": {
  "kernelspec": {
   "display_name": "Python 3",
   "language": "python",
   "name": "python3"
  },
  "language_info": {
   "codemirror_mode": {
    "name": "ipython",
    "version": 3
   },
   "file_extension": ".py",
   "mimetype": "text/x-python",
   "name": "python",
   "nbconvert_exporter": "python",
   "pygments_lexer": "ipython3",
   "version": "3.7.0"
  }
 },
 "nbformat": 4,
 "nbformat_minor": 2
}
