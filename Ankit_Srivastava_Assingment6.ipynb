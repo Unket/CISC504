{
 "cells": [
  {
   "cell_type": "code",
   "execution_count": 2,
   "metadata": {},
   "outputs": [
    {
     "data": {
      "text/plain": [
       "35"
      ]
     },
     "execution_count": 2,
     "metadata": {},
     "output_type": "execute_result"
    }
   ],
   "source": [
    "#Write a Python function which will sum all the following listed items (5,8,2,4,7,9)\n",
    "def add(a,b,c,d,e,f):\n",
    "    return a+b+c+d+e+f\n",
    "add(5,8,2,4,7,9)"
   ]
  },
  {
   "cell_type": "code",
   "execution_count": 5,
   "metadata": {},
   "outputs": [
    {
     "data": {
      "text/plain": [
       "720"
      ]
     },
     "execution_count": 5,
     "metadata": {},
     "output_type": "execute_result"
    }
   ],
   "source": [
    "#Write a Python function whihc will find the product/multiply the items in the following list: (4,3,5,6,2)\n",
    "def multiply(a,b,c,d,e):\n",
    "    return a*b*c*d*e\n",
    "multiply(4,3,5,6,2)"
   ]
  },
  {
   "cell_type": "code",
   "execution_count": 7,
   "metadata": {},
   "outputs": [],
   "source": [
    "\n",
    "import numpy as np"
   ]
  },
  {
   "cell_type": "code",
   "execution_count": 8,
   "metadata": {},
   "outputs": [
    {
     "name": "stdout",
     "output_type": "stream",
     "text": [
      "[[5. 5. 8. 8. 9. 8.]\n",
      " [7. 7. 5. 3. 5. 7.]\n",
      " [8. 7. 8. 4. 2. 6.]\n",
      " [9. 9. 7. 3. 1. 4.]]\n"
     ]
    }
   ],
   "source": [
    "# Creating arrays from a list with float16 data type\n",
    "array_hw=np.array([[5,5,8,8,9,8],[7,7,5,3,5,7],[8,7,8,4,2,6],[9,9,7,3,1,4]], dtype='float16')\n",
    "print(array_hw)"
   ]
  },
  {
   "cell_type": "code",
   "execution_count": 13,
   "metadata": {},
   "outputs": [
    {
     "name": "stdout",
     "output_type": "stream",
     "text": [
      "array_hw:\n",
      "[[5 5 8 8 9 8]\n",
      " [7 7 5 3 5 7]\n",
      " [8 7 8 4 2 6]\n",
      " [9 9 7 3 1 4]]\n",
      "\n",
      "array_hw Simple Sort:\n"
     ]
    },
    {
     "data": {
      "text/plain": [
       "array([1, 2, 3, 3, 4, 4, 5, 5, 5, 5, 6, 7, 7, 7, 7, 7, 8, 8, 8, 8, 8, 9,\n",
       "       9, 9])"
      ]
     },
     "execution_count": 13,
     "metadata": {},
     "output_type": "execute_result"
    }
   ],
   "source": [
    "#Sort the flattened array\n",
    "print ('array_hw:')\n",
    "print (array_hw)\n",
    "print('')\n",
    "print('array_hw Simple Sort:')\n",
    "np.sort(array_hw, axis=None)"
   ]
  },
  {
   "cell_type": "code",
   "execution_count": 16,
   "metadata": {},
   "outputs": [
    {
     "name": "stdout",
     "output_type": "stream",
     "text": [
      "array_hw:\n",
      "[[5 5 8 8 9 8]\n",
      " [7 7 5 3 5 7]\n",
      " [8 7 8 4 2 6]\n",
      " [9 9 7 3 1 4]]\n",
      "\n",
      "array_hw Simple Sort:\n"
     ]
    },
    {
     "data": {
      "text/plain": [
       "array([[5, 5, 5, 3, 1, 4],\n",
       "       [7, 7, 7, 3, 2, 6],\n",
       "       [8, 7, 8, 4, 5, 7],\n",
       "       [9, 9, 8, 8, 9, 8]])"
      ]
     },
     "execution_count": 16,
     "metadata": {},
     "output_type": "execute_result"
    }
   ],
   "source": [
    "## Sort the second column:\n",
    "print ('array_hw:')\n",
    "print (array_hw)\n",
    "print('')\n",
    "print('array_hw Simple Sort:')\n",
    "np.sort(array_hw, axis=0)"
   ]
  },
  {
   "cell_type": "code",
   "execution_count": 18,
   "metadata": {},
   "outputs": [
    {
     "name": "stdout",
     "output_type": "stream",
     "text": [
      "array_hw:\n",
      "[[5 5 8 8 9 8]\n",
      " [7 7 5 3 5 7]\n",
      " [8 7 8 4 2 6]\n",
      " [9 9 7 3 1 4]]\n",
      "\n",
      "array_hw Simple Sort:\n"
     ]
    },
    {
     "data": {
      "text/plain": [
       "array([[5, 5, 8, 8, 8, 9],\n",
       "       [3, 5, 5, 7, 7, 7],\n",
       "       [2, 4, 6, 7, 8, 8],\n",
       "       [1, 3, 4, 7, 9, 9]])"
      ]
     },
     "execution_count": 18,
     "metadata": {},
     "output_type": "execute_result"
    }
   ],
   "source": [
    "## Sort the third row:\n",
    "print ('array_hw:')\n",
    "print (array_hw)\n",
    "print('')\n",
    "print('array_hw Simple Sort:')\n",
    "np.sort(array_hw, axis=1)"
   ]
  },
  {
   "cell_type": "code",
   "execution_count": 15,
   "metadata": {},
   "outputs": [
    {
     "name": "stdout",
     "output_type": "stream",
     "text": [
      "array_hw:\n",
      "[[7. 7. 5. 3. 5. 7.]\n",
      " [8. 7. 8. 4. 2. 6.]\n",
      " [9. 9. 7. 3. 1. 4.]]\n"
     ]
    }
   ],
   "source": [
    "#Extract the second row onwards\n",
    "print ('array_hw:')\n",
    "print (array_hw[1:,...])"
   ]
  },
  {
   "cell_type": "raw",
   "metadata": {},
   "source": [
    "# Extract the third column onwards this question answer is at end"
   ]
  },
  {
   "cell_type": "code",
   "execution_count": 26,
   "metadata": {},
   "outputs": [
    {
     "data": {
      "text/plain": [
       "array([[2.23606798, 2.23606798, 2.82842712, 2.82842712, 3.        ,\n",
       "        2.82842712],\n",
       "       [2.64575131, 2.64575131, 2.23606798, 1.73205081, 2.23606798,\n",
       "        2.64575131],\n",
       "       [2.82842712, 2.64575131, 2.82842712, 2.        , 1.41421356,\n",
       "        2.44948974],\n",
       "       [3.        , 3.        , 2.64575131, 1.73205081, 1.        ,\n",
       "        2.        ]])"
      ]
     },
     "execution_count": 26,
     "metadata": {},
     "output_type": "execute_result"
    }
   ],
   "source": [
    "#obtain the square root of array_hw\n",
    "np.sqrt(array_hw)"
   ]
  },
  {
   "cell_type": "code",
   "execution_count": 22,
   "metadata": {},
   "outputs": [
    {
     "name": "stdout",
     "output_type": "stream",
     "text": [
      "[[5. 5. 8. 8. 9. 8.]\n",
      " [7. 7. 5. 3. 5. 7.]\n",
      " [8. 7. 8. 4. 2. 6.]\n",
      " [9. 9. 7. 3. 1. 4.]]\n",
      "square  of array_hw\n"
     ]
    },
    {
     "data": {
      "text/plain": [
       "array([[25., 25., 64., 64., 81., 64.],\n",
       "       [49., 49., 25.,  9., 25., 49.],\n",
       "       [64., 49., 64., 16.,  4., 36.],\n",
       "       [81., 81., 49.,  9.,  1., 16.]], dtype=float16)"
      ]
     },
     "execution_count": 22,
     "metadata": {},
     "output_type": "execute_result"
    }
   ],
   "source": [
    "#obtain the square  of array_hw\n",
    "print(array_hw)\n",
    "print ('square  of array_hw')\n",
    "np.square(array_hw)"
   ]
  },
  {
   "cell_type": "code",
   "execution_count": 34,
   "metadata": {},
   "outputs": [
    {
     "name": "stdout",
     "output_type": "stream",
     "text": [
      "[[5 5 8 8 9 8]\n",
      " [7 7 5 3 5 7]\n",
      " [8 7 8 4 2 6]\n",
      " [9 9 7 3 1 4]]\n",
      "[[4 2 6]\n",
      " [3 1 4]]\n"
     ]
    }
   ],
   "source": [
    "#Slice the element from the third row and fourth column position 3X4\n",
    "print(array_hw)\n",
    "print ('element from the third row and fourth column position 3X4')\n",
    "print(array_hw[2:,3:])"
   ]
  },
  {
   "cell_type": "code",
   "execution_count": 36,
   "metadata": {},
   "outputs": [
    {
     "name": "stdout",
     "output_type": "stream",
     "text": [
      "[[5 5 8 8 9 8]\n",
      " [7 7 5 3 5 7]\n",
      " [8 7 8 4 2 6]\n",
      " [9 9 7 3 1 4]]\n"
     ]
    },
    {
     "data": {
      "text/plain": [
       "145"
      ]
     },
     "execution_count": 36,
     "metadata": {},
     "output_type": "execute_result"
    }
   ],
   "source": [
    "#obtain the total sum of array_hw\n",
    "print(array_hw)\n",
    "np.sum(array_hw)"
   ]
  },
  {
   "cell_type": "code",
   "execution_count": 40,
   "metadata": {},
   "outputs": [
    {
     "name": "stdout",
     "output_type": "stream",
     "text": [
      "[[5 5 8 8 9 8]\n",
      " [7 7 5 3 5 7]\n",
      " [8 7 8 4 2 6]\n",
      " [9 9 7 3 1 4]]\n"
     ]
    },
    {
     "data": {
      "text/plain": [
       "(4, 6)"
      ]
     },
     "execution_count": 40,
     "metadata": {},
     "output_type": "execute_result"
    }
   ],
   "source": [
    "#How many dimentions does array_hw have?\n",
    "print(array_hw)\n",
    "np.shape(array_hw)\n"
   ]
  },
  {
   "cell_type": "code",
   "execution_count": 21,
   "metadata": {},
   "outputs": [
    {
     "name": "stdout",
     "output_type": "stream",
     "text": [
      "[[5. 5. 8. 8. 9. 8.]\n",
      " [7. 7. 5. 3. 5. 7.]\n",
      " [8. 7. 8. 4. 2. 6.]\n",
      " [9. 9. 7. 3. 1. 4.]]\n",
      "dimentions in  array_hw is\n"
     ]
    },
    {
     "data": {
      "text/plain": [
       "24"
      ]
     },
     "execution_count": 21,
     "metadata": {},
     "output_type": "execute_result"
    }
   ],
   "source": [
    "#How many dimentions does array_hw have?\n",
    "print(array_hw)\n",
    "print ('dimentions in  array_hw is')\n",
    "np.size(array_hw)\n"
   ]
  },
  {
   "cell_type": "code",
   "execution_count": 20,
   "metadata": {},
   "outputs": [
    {
     "name": "stdout",
     "output_type": "stream",
     "text": [
      "[[5. 5. 8. 8. 9. 8.]\n",
      " [7. 7. 5. 3. 5. 7.]\n",
      " [8. 7. 8. 4. 2. 6.]\n",
      " [9. 9. 7. 3. 1. 4.]]\n",
      "data type listed in array_hw is\n"
     ]
    },
    {
     "data": {
      "text/plain": [
       "dtype('float16')"
      ]
     },
     "execution_count": 20,
     "metadata": {},
     "output_type": "execute_result"
    }
   ],
   "source": [
    "#What is the data type listed in array_hw\n",
    "print(array_hw)\n",
    "print ( 'data type listed in array_hw is')\n",
    "a=np.array(array_hw)\n",
    "a.dtype "
   ]
  },
  {
   "cell_type": "code",
   "execution_count": 19,
   "metadata": {},
   "outputs": [
    {
     "name": "stdout",
     "output_type": "stream",
     "text": [
      "[[5. 5. 8. 8. 9. 8.]\n",
      " [7. 7. 5. 3. 5. 7.]\n",
      " [8. 7. 8. 4. 2. 6.]\n",
      " [9. 9. 7. 3. 1. 4.]]\n",
      "data type listed in array_hw\n"
     ]
    },
    {
     "data": {
      "text/plain": [
       "48"
      ]
     },
     "execution_count": 19,
     "metadata": {},
     "output_type": "execute_result"
    }
   ],
   "source": [
    "#What is the data type listed in array_hw\n",
    "print(array_hw)\n",
    "print ('data type listed in array_hw')\n",
    "a=np.array(array_hw)\n",
    "a.nbytes \n"
   ]
  },
  {
   "cell_type": "code",
   "execution_count": 18,
   "metadata": {},
   "outputs": [
    {
     "name": "stdout",
     "output_type": "stream",
     "text": [
      "array_hw Extract the third column onwards\n",
      "[[8. 8. 9. 8.]\n",
      " [5. 3. 5. 7.]\n",
      " [8. 4. 2. 6.]\n",
      " [7. 3. 1. 4.]]\n"
     ]
    }
   ],
   "source": [
    "# Extract the third column onwards\n",
    "print ('array_hw Extract the third column onwards')\n",
    "print (array_hw[...,2:])"
   ]
  }
 ],
 "metadata": {
  "kernelspec": {
   "display_name": "Python 3",
   "language": "python",
   "name": "python3"
  },
  "language_info": {
   "codemirror_mode": {
    "name": "ipython",
    "version": 3
   },
   "file_extension": ".py",
   "mimetype": "text/x-python",
   "name": "python",
   "nbconvert_exporter": "python",
   "pygments_lexer": "ipython3",
   "version": "3.7.0"
  }
 },
 "nbformat": 4,
 "nbformat_minor": 2
}
