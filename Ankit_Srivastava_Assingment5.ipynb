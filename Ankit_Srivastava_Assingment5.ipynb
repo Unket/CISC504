{
 "cells": [
  {
   "cell_type": "code",
   "execution_count": 29,
   "metadata": {},
   "outputs": [
    {
     "data": {
      "application/vnd.jupyter.widget-view+json": {
       "model_id": "afdba37c954847788382482030d82ceb",
       "version_major": 2,
       "version_minor": 0
      },
      "text/plain": [
       "Turtle()"
      ]
     },
     "metadata": {},
     "output_type": "display_data"
    }
   ],
   "source": [
    "from mobilechelonian import Turtle\n",
    "t=Turtle()\n",
    "t.circle(20,360)\n",
    "t.right(90)\n",
    "t.forward(20)\n",
    "t.right(90)\n",
    "t.forward(40)\n",
    "t.right(180)\n",
    "t.forward(80)\n",
    "t.right(180)\n",
    "t.forward(40)\n",
    "t.left(90)\n",
    "t.forward(50)\n",
    "t.right(20)\n",
    "t.forward(50)\n",
    "t.right(180)\n",
    "t.forward(50)\n",
    "t.right(140)\n",
    "t.forward(50)\n",
    "\n"
   ]
  }
 ],
 "metadata": {
  "kernelspec": {
   "display_name": "Python 3",
   "language": "python",
   "name": "python3"
  },
  "language_info": {
   "codemirror_mode": {
    "name": "ipython",
    "version": 3
   },
   "file_extension": ".py",
   "mimetype": "text/x-python",
   "name": "python",
   "nbconvert_exporter": "python",
   "pygments_lexer": "ipython3",
   "version": "3.7.0"
  }
 },
 "nbformat": 4,
 "nbformat_minor": 2
}
