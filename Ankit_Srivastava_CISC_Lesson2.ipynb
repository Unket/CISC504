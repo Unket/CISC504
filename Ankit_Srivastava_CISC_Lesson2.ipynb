{
 "cells": [
  {
   "cell_type": "code",
   "execution_count": 5,
   "metadata": {},
   "outputs": [
    {
     "name": "stdout",
     "output_type": "stream",
     "text": [
      "Program will convert pount to Kgs\n",
      "Enter Pounds 5.26\n",
      "\n",
      "\n",
      "Weight is 2.39067 Kgs\n"
     ]
    }
   ],
   "source": [
    "\n",
    "print(\"Program will convert pount to Kgs\")\n",
    "\n",
    "pounds = eval(input(\"Enter Pounds \"))\n",
    "\n",
    "print()\n",
    "\n",
    "kilograms = pounds * 0.4545\n",
    "\n",
    "print()\n",
    "  \n",
    "print(\"Weight is\", kilograms, \"Kgs\")\n"
   ]
  },
  {
   "cell_type": "code",
   "execution_count": 7,
   "metadata": {},
   "outputs": [
    {
     "name": "stdout",
     "output_type": "stream",
     "text": [
      "Enter the initial principal: 1000\n",
      "Enter the annualized interest rate: .05\n",
      "The amount in 10 years is: 1628.8946267774422\n",
      "This program calculates the future value of a 10-year investment.\n"
     ]
    }
   ],
   "source": [
    "#From the future value example listed above list one of each of the following: Name, expression, output statement, and a simple variable assignment\n",
    "principal = float(input('Enter the initial principal: '))\n",
    "apr = float(input('Enter the annualized interest rate: '))\n",
    "def main(): print ('This program calculates the future value of a 10-year investment.')\n",
    "for i in range(10):principal = principal * (1 + apr)\n",
    "print ('The amount in 10 years is:', principal)\n",
    "\n",
    "main()\n"
   ]
  },
  {
   "cell_type": "code",
   "execution_count": 8,
   "metadata": {},
   "outputs": [
    {
     "name": "stdout",
     "output_type": "stream",
     "text": [
      "Enter the initial principal: 4585\n",
      "Enter the annualized interest rate: 8\n",
      "Enter the Time period: 2\n",
      "The amount in 10 years is: 73360.0\n"
     ]
    }
   ],
   "source": [
    "#Exercise: From the future value example listed above list one of each of the following: Name, expression, output statement, and a simple variable assignment.\n",
    "# Simple intrest\n",
    "principal = float(input('Enter the initial principal: '))\n",
    "rate = float(input('Enter the annualized interest rate: '))\n",
    "time = float(input('Enter the Time period: '))\n",
    "interest = principal * rate * time\n",
    "print ('The amount in 10 years is:', interest)\n"
   ]
  },
  {
   "cell_type": "code",
   "execution_count": 9,
   "metadata": {},
   "outputs": [
    {
     "name": "stdout",
     "output_type": "stream",
     "text": [
      "This program will convert minute into seconds\n",
      "Enter Minutes 75\n",
      "\n",
      "\n",
      "minute in seconds in  4500\n"
     ]
    }
   ],
   "source": [
    "print(\"This program will convert minute into seconds\")\n",
    "\n",
    "minute = eval(input(\"Enter Minutes \"))\n",
    "\n",
    "print()\n",
    "\n",
    "seconds = minute * 60\n",
    "\n",
    "print()\n",
    "  \n",
    "print(\"minute in seconds in \", seconds )"
   ]
  },
  {
   "cell_type": "code",
   "execution_count": null,
   "metadata": {},
   "outputs": [],
   "source": []
  }
 ],
 "metadata": {
  "kernelspec": {
   "display_name": "Python 3",
   "language": "python",
   "name": "python3"
  },
  "language_info": {
   "codemirror_mode": {
    "name": "ipython",
    "version": 3
   },
   "file_extension": ".py",
   "mimetype": "text/x-python",
   "name": "python",
   "nbconvert_exporter": "python",
   "pygments_lexer": "ipython3",
   "version": "3.7.0"
  }
 },
 "nbformat": 4,
 "nbformat_minor": 2
}
