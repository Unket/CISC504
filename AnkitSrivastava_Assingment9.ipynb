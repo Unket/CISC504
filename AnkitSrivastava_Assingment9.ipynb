{
 "cells": [
  {
   "cell_type": "code",
   "execution_count": 17,
   "metadata": {},
   "outputs": [
    {
     "name": "stdout",
     "output_type": "stream",
     "text": [
      "1 This number is Odd\n",
      "4 This number is even\n",
      "5 This number is Odd\n",
      "6 This number is even\n",
      "3 This number is Odd\n",
      "2 This number is even\n",
      "7 This number is Odd\n",
      "8 This number is even\n",
      "66 This number is even\n",
      "54 This number is even\n",
      "78 This number is even\n",
      "97 This number is Odd\n",
      "54 This number is even\n",
      "34 This number is even\n",
      "67 This number is Odd\n",
      "65 This number is Odd\n",
      "56 This number is even\n",
      "45 This number is Odd\n",
      "54 This number is even\n"
     ]
    }
   ],
   "source": [
    "# Question1 odd Even\n",
    "List_1 = [1, 4, 5, 6, 3, 2, 7 ,8, 66, 54, 78, 97,54, 34, 67, 65, 56,45,54]\n",
    "for i in List_1:\n",
    "    if i % 2 ==0:\n",
    "        print (i,'This number is even')\n",
    "    else:\n",
    "            print (i,'This number is Odd')"
   ]
  },
  {
   "cell_type": "code",
   "execution_count": 23,
   "metadata": {},
   "outputs": [
    {
     "name": "stdout",
     "output_type": "stream",
     "text": [
      "1 This number is Odd\n",
      "4 This number is even\n",
      "5 This number is Odd\n",
      "6 This number is even\n",
      "3 This number is Odd\n",
      "2 This number is even\n",
      "7 This number is Odd\n",
      "8 This number is even\n",
      "66 This number is even\n"
     ]
    }
   ],
   "source": [
    "#Question 1 Develop a modified version of the above described loop which stops at the value 66\n",
    "List_1 = [1, 4, 5, 6, 3, 2, 7 ,8, 66, 54, 78, 97,54, 34, 67, 65, 56,45,54]\n",
    "for i in List_1:\n",
    "    if i % 2 ==0:\n",
    "        print (i,'This number is even')\n",
    "    else:\n",
    "            print (i,'This number is Odd')\n",
    "    if i==66:\n",
    "        break"
   ]
  },
  {
   "cell_type": "code",
   "execution_count": 28,
   "metadata": {},
   "outputs": [
    {
     "name": "stdout",
     "output_type": "stream",
     "text": [
      "1 This number is Odd\n",
      "4 This number is even\n",
      "5 This number is Odd\n",
      "6 This number is even\n",
      "3 This number is Odd\n",
      "2 This number is even\n",
      "7 This number is Odd\n",
      "66 This number is even\n",
      "54 This number is even\n",
      "78 This number is even\n",
      "97 This number is Odd\n",
      "54 This number is even\n",
      "34 This number is even\n",
      "67 This number is Odd\n",
      "65 This number is Odd\n"
     ]
    }
   ],
   "source": [
    "#Question 1 Develop a modified version of the same loop which skips over the value 8 and stops when it reaches the value 65.\n",
    "List_1 = [1, 4, 5, 6, 3, 2, 7 ,8, 66, 54, 78, 97,54, 34, 67, 65, 56,45,54]\n",
    "for i in List_1:\n",
    "    if i == 8:\n",
    "        continue\n",
    "    if i % 2 ==0:\n",
    "        print (i,'This number is even')\n",
    "    else:\n",
    "            print (i,'This number is Odd')\n",
    "    if i==65:\n",
    "        break"
   ]
  },
  {
   "cell_type": "code",
   "execution_count": 54,
   "metadata": {},
   "outputs": [
    {
     "name": "stdout",
     "output_type": "stream",
     "text": [
      "Square of number 1 is 1\n",
      "Square of number 2 is 4\n",
      "Square of number 3 is 9\n",
      "Square of number 4 is 16\n"
     ]
    }
   ],
   "source": [
    "#Exercise 2: Write a program which uses a while loop then transform it so that it uses the for loop to produce the same output\n",
    "# while\n",
    "Num = 0\n",
    "while Num < 4:\n",
    "    Num = Num + 1\n",
    "    print ('Square of number',Num,'is',Num*Num)"
   ]
  },
  {
   "cell_type": "code",
   "execution_count": 43,
   "metadata": {},
   "outputs": [
    {
     "name": "stdout",
     "output_type": "stream",
     "text": [
      "Square of number 1 is 1\n",
      "Square of number 2 is 4\n",
      "Square of number 3 is 9\n",
      "Square of number 4 is 16\n"
     ]
    }
   ],
   "source": [
    "#Exercise 2: Write a program which uses a while loop then transform it so that it uses the for loop to produce the same output\n",
    "# For\n",
    "Num = range(1,5)\n",
    "for count in Num:\n",
    "    print ('Square of number',count,'is',count*count)\n"
   ]
  },
  {
   "cell_type": "code",
   "execution_count": null,
   "metadata": {},
   "outputs": [],
   "source": []
  }
 ],
 "metadata": {
  "kernelspec": {
   "display_name": "Python 3",
   "language": "python",
   "name": "python3"
  },
  "language_info": {
   "codemirror_mode": {
    "name": "ipython",
    "version": 3
   },
   "file_extension": ".py",
   "mimetype": "text/x-python",
   "name": "python",
   "nbconvert_exporter": "python",
   "pygments_lexer": "ipython3",
   "version": "3.7.0"
  }
 },
 "nbformat": 4,
 "nbformat_minor": 2
}
